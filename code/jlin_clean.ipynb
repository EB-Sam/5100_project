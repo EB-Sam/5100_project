{
 "cells": [
  {
   "cell_type": "code",
   "execution_count": 8,
   "metadata": {},
   "outputs": [],
   "source": [
    "import pandas as pd"
   ]
  },
  {
   "cell_type": "code",
   "execution_count": 9,
   "metadata": {},
   "outputs": [],
   "source": [
    "policy = pd.read_csv(\"../data/clean_data/Policy_Data_jlin.csv\")\n",
    "travel = pd.read_csv(\"../data/clean_data/Travel_Data_jlin.csv\")\n",
    "\n",
    "# Strip spaces in 'State' column\n",
    "policy['State'] = policy['State'].str.strip()\n",
    "travel['State'] = travel['State'].str.strip()\n",
    "\n",
    "# Merge the datasets\n",
    "policy_travel = pd.merge(policy, travel, on='State', how='inner')\n",
    "# print(policy_travel.columns)\n",
    "\n",
    "dropped_columns = ['abortion_related_legislative_actions_introduced_2023',\n",
    "       'medicaid_expansion_status', 'total_abortion_ban', 'week_ban_6',\n",
    "       'week_ban_12', 'week_ban_15', 'week_ban_18_to_23', 'week_ban_24_to_26',\n",
    "       'no_gestational_ban', 'state_constitution_excludes_abortion_rights',\n",
    "       'waiting_period_after_counseling',\n",
    "       'waiting_period_after_required_in_person_counseling',\n",
    "       'forced_ultrasound', 'state_medicaid_coverage_ban',\n",
    "       'private_insurance_coverage_ban',\n",
    "       'medication_abortion_in_person_requirement',\n",
    "       'mailing_abortion_pills_banned',\n",
    "       'medically_unnecessary_clinic_regulations',\n",
    "       'parental_consent_required_for_minors_abortion',\n",
    "       'parental_notice_required_for_a_minors_abortion',\n",
    "       'only_physicians_can_provide_abortions',\n",
    "       'state_constitution_protects_abortion_rights',\n",
    "       'state_medicaid_funds_cover_abortion',\n",
    "       'private_health_plans_required_to_cover_abortion',\n",
    "       'healthcare_professionals_besides_physicians_provide_abortions',\n",
    "       'state_fund_for_abortion_care', 'protections_to_enter_a_clinic',\n",
    "       'shield_law_protecting_providers',\n",
    "       'patient_reproductive_health_data_privacy',\n",
    "       'prenatal_and_postpartum_home_visits_2017',\n",
    "       'infant_care_parenting_education_2017', 'postpartum_visit_2017',]\n",
    "\n",
    "policy_travel = policy_travel.drop(columns= dropped_columns)\n",
    "policy_travel = policy_travel.fillna(0)\n",
    "\n",
    "policy_travel.head()\n",
    "\n",
    "# policy_data = policy_travel[[\"State\", \"abortion_policies\"]]\n",
    "# travel_data = policy_travel.iloc[:, 2:]\n",
    "\n",
    "# print(policy_data,\"\\n\")\n",
    "# print(travel_data)\n",
    "\n",
    "policy_travel.to_csv('../data/clean_data/policy_travel_jlin.csv', index=False)"
   ]
  }
 ],
 "metadata": {
  "kernelspec": {
   "display_name": "dsan5000",
   "language": "python",
   "name": "python3"
  },
  "language_info": {
   "codemirror_mode": {
    "name": "ipython",
    "version": 3
   },
   "file_extension": ".py",
   "mimetype": "text/x-python",
   "name": "python",
   "nbconvert_exporter": "python",
   "pygments_lexer": "ipython3",
   "version": "3.12.6"
  }
 },
 "nbformat": 4,
 "nbformat_minor": 2
}
